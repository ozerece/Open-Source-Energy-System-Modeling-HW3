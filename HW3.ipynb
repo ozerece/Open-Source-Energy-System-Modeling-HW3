{
 "cells": [
  {
   "cell_type": "markdown",
   "id": "eea13111",
   "metadata": {},
   "source": [
    "# Open Source Energy System Modeling 2022- HW3"
   ]
  },
  {
   "cell_type": "markdown",
   "id": "bb708739",
   "metadata": {},
   "source": [
    "## A) Add a new technology “gas power plant”"
   ]
  },
  {
   "cell_type": "code",
   "execution_count": 1,
   "id": "bd1e00c2",
   "metadata": {},
   "outputs": [
    {
     "data": {
      "application/javascript": [
       "if (typeof IPython !== 'undefined') { IPython.OutputArea.prototype._should_scroll = function(lines){ return false; }}"
      ],
      "text/plain": [
       "<IPython.core.display.Javascript object>"
      ]
     },
     "metadata": {},
     "output_type": "display_data"
    }
   ],
   "source": [
    "import pandas as pd\n",
    "import ixmp\n",
    "import message_ix\n",
    "\n",
    "from message_ix.utils import make_df\n",
    "\n",
    "%matplotlib inline"
   ]
  },
  {
   "cell_type": "code",
   "execution_count": 2,
   "id": "efe8daa0",
   "metadata": {},
   "outputs": [],
   "source": [
    "# Setting the modeling platform\n",
    "mp = ixmp.Platform()"
   ]
  },
  {
   "cell_type": "markdown",
   "id": "5f76b39e",
   "metadata": {},
   "source": [
    "### A.1) Cloning the baseline scenario"
   ]
  },
  {
   "cell_type": "code",
   "execution_count": 3,
   "id": "f0ac625b",
   "metadata": {},
   "outputs": [],
   "source": [
    "model = \"Westeros Electrified\"\n",
    "\n",
    "base = message_ix.Scenario(mp, model=model, scenario=\"baseline\")\n",
    "scenario = base.clone(\n",
    "    model,\n",
    "    \"add_gas_ppl\",\n",
    "    \"adding a gas power plant\",\n",
    "    keep_solution=False,\n",
    ")\n",
    "scenario.check_out()"
   ]
  },
  {
   "cell_type": "code",
   "execution_count": 4,
   "id": "959ba027",
   "metadata": {},
   "outputs": [],
   "source": [
    "year_df = scenario.vintage_and_active_years()\n",
    "vintage_years, act_years = year_df[\"year_vtg\"], year_df[\"year_act\"]\n",
    "model_horizon = scenario.set(\"year\")\n",
    "country = \"Westeros\""
   ]
  },
  {
   "cell_type": "code",
   "execution_count": 5,
   "id": "55007eb8",
   "metadata": {},
   "outputs": [
    {
     "data": {
      "text/html": [
       "<div>\n",
       "<style scoped>\n",
       "    .dataframe tbody tr th:only-of-type {\n",
       "        vertical-align: middle;\n",
       "    }\n",
       "\n",
       "    .dataframe tbody tr th {\n",
       "        vertical-align: top;\n",
       "    }\n",
       "\n",
       "    .dataframe thead th {\n",
       "        text-align: right;\n",
       "    }\n",
       "</style>\n",
       "<table border=\"1\" class=\"dataframe\">\n",
       "  <thead>\n",
       "    <tr style=\"text-align: right;\">\n",
       "      <th></th>\n",
       "      <th>model</th>\n",
       "      <th>scenario</th>\n",
       "      <th>scheme</th>\n",
       "      <th>is_default</th>\n",
       "      <th>is_locked</th>\n",
       "      <th>cre_user</th>\n",
       "      <th>cre_date</th>\n",
       "      <th>upd_user</th>\n",
       "      <th>upd_date</th>\n",
       "      <th>lock_user</th>\n",
       "      <th>lock_date</th>\n",
       "      <th>annotation</th>\n",
       "      <th>version</th>\n",
       "    </tr>\n",
       "  </thead>\n",
       "  <tbody>\n",
       "    <tr>\n",
       "      <th>0</th>\n",
       "      <td>Westeros Electrified</td>\n",
       "      <td>add_gas_ppl</td>\n",
       "      <td>MESSAGE</td>\n",
       "      <td>1</td>\n",
       "      <td>0</td>\n",
       "      <td>oezer</td>\n",
       "      <td>2022-06-12 16:01:42.485000</td>\n",
       "      <td>oezer</td>\n",
       "      <td>2022-06-12 16:01:44.382000</td>\n",
       "      <td>None</td>\n",
       "      <td>None</td>\n",
       "      <td>clone Scenario from 'Westeros Electrified|base...</td>\n",
       "      <td>57</td>\n",
       "    </tr>\n",
       "    <tr>\n",
       "      <th>1</th>\n",
       "      <td>Westeros Electrified</td>\n",
       "      <td>baseline</td>\n",
       "      <td>MESSAGE</td>\n",
       "      <td>1</td>\n",
       "      <td>0</td>\n",
       "      <td>oezer</td>\n",
       "      <td>2022-06-12 10:48:16.803000</td>\n",
       "      <td>oezer</td>\n",
       "      <td>2022-06-12 10:48:19.555000</td>\n",
       "      <td>None</td>\n",
       "      <td>None</td>\n",
       "      <td>basic model of Westeros electrification</td>\n",
       "      <td>1</td>\n",
       "    </tr>\n",
       "    <tr>\n",
       "      <th>2</th>\n",
       "      <td>Westeros Electrified</td>\n",
       "      <td>gas_ppl_emission_bound</td>\n",
       "      <td>MESSAGE</td>\n",
       "      <td>1</td>\n",
       "      <td>0</td>\n",
       "      <td>oezer</td>\n",
       "      <td>2022-06-12 16:01:46.229000</td>\n",
       "      <td>oezer</td>\n",
       "      <td>2022-06-12 16:01:47.239000</td>\n",
       "      <td>None</td>\n",
       "      <td>None</td>\n",
       "      <td>clone Scenario from 'Westeros Electrified|add_...</td>\n",
       "      <td>58</td>\n",
       "    </tr>\n",
       "    <tr>\n",
       "      <th>3</th>\n",
       "      <td>Westeros Electrified</td>\n",
       "      <td>gas_ppl_higher_emission</td>\n",
       "      <td>MESSAGE</td>\n",
       "      <td>1</td>\n",
       "      <td>0</td>\n",
       "      <td>oezer</td>\n",
       "      <td>2022-06-12 14:08:36.577000</td>\n",
       "      <td>oezer</td>\n",
       "      <td>2022-06-12 14:15:36.793000</td>\n",
       "      <td>None</td>\n",
       "      <td>None</td>\n",
       "      <td>clone Scenario from 'Westeros Electrified|add_...</td>\n",
       "      <td>1</td>\n",
       "    </tr>\n",
       "    <tr>\n",
       "      <th>4</th>\n",
       "      <td>Westeros Electrified</td>\n",
       "      <td>gas_ppl_lower_emission</td>\n",
       "      <td>MESSAGE</td>\n",
       "      <td>1</td>\n",
       "      <td>0</td>\n",
       "      <td>oezer</td>\n",
       "      <td>2022-06-12 14:21:54.909000</td>\n",
       "      <td>None</td>\n",
       "      <td>None</td>\n",
       "      <td>None</td>\n",
       "      <td>None</td>\n",
       "      <td>clone Scenario from 'Westeros Electrified|add_...</td>\n",
       "      <td>1</td>\n",
       "    </tr>\n",
       "    <tr>\n",
       "      <th>5</th>\n",
       "      <td>Westeros Electrified</td>\n",
       "      <td>gas_ppl_sweet_spot</td>\n",
       "      <td>MESSAGE</td>\n",
       "      <td>1</td>\n",
       "      <td>0</td>\n",
       "      <td>oezer</td>\n",
       "      <td>2022-06-12 14:31:48.039000</td>\n",
       "      <td>oezer</td>\n",
       "      <td>2022-06-12 14:56:28.425000</td>\n",
       "      <td>None</td>\n",
       "      <td>None</td>\n",
       "      <td>clone Scenario from 'Westeros Electrified|add_...</td>\n",
       "      <td>1</td>\n",
       "    </tr>\n",
       "  </tbody>\n",
       "</table>\n",
       "</div>"
      ],
      "text/plain": [
       "                  model                 scenario   scheme  is_default  \\\n",
       "0  Westeros Electrified              add_gas_ppl  MESSAGE           1   \n",
       "1  Westeros Electrified                 baseline  MESSAGE           1   \n",
       "2  Westeros Electrified   gas_ppl_emission_bound  MESSAGE           1   \n",
       "3  Westeros Electrified  gas_ppl_higher_emission  MESSAGE           1   \n",
       "4  Westeros Electrified   gas_ppl_lower_emission  MESSAGE           1   \n",
       "5  Westeros Electrified       gas_ppl_sweet_spot  MESSAGE           1   \n",
       "\n",
       "   is_locked cre_user                    cre_date upd_user  \\\n",
       "0          0    oezer  2022-06-12 16:01:42.485000    oezer   \n",
       "1          0    oezer  2022-06-12 10:48:16.803000    oezer   \n",
       "2          0    oezer  2022-06-12 16:01:46.229000    oezer   \n",
       "3          0    oezer  2022-06-12 14:08:36.577000    oezer   \n",
       "4          0    oezer  2022-06-12 14:21:54.909000     None   \n",
       "5          0    oezer  2022-06-12 14:31:48.039000    oezer   \n",
       "\n",
       "                     upd_date lock_user lock_date  \\\n",
       "0  2022-06-12 16:01:44.382000      None      None   \n",
       "1  2022-06-12 10:48:19.555000      None      None   \n",
       "2  2022-06-12 16:01:47.239000      None      None   \n",
       "3  2022-06-12 14:15:36.793000      None      None   \n",
       "4                        None      None      None   \n",
       "5  2022-06-12 14:56:28.425000      None      None   \n",
       "\n",
       "                                          annotation  version  \n",
       "0  clone Scenario from 'Westeros Electrified|base...       57  \n",
       "1            basic model of Westeros electrification        1  \n",
       "2  clone Scenario from 'Westeros Electrified|add_...       58  \n",
       "3  clone Scenario from 'Westeros Electrified|add_...        1  \n",
       "4  clone Scenario from 'Westeros Electrified|add_...        1  \n",
       "5  clone Scenario from 'Westeros Electrified|add_...        1  "
      ]
     },
     "execution_count": 5,
     "metadata": {},
     "output_type": "execute_result"
    }
   ],
   "source": [
    "# Check the scenarios\n",
    "mp.scenario_list()"
   ]
  },
  {
   "cell_type": "markdown",
   "id": "51071836",
   "metadata": {},
   "source": [
    "### A.2) Add gas power plant in addition to existing coal and wind power plants"
   ]
  },
  {
   "cell_type": "code",
   "execution_count": 6,
   "id": "0e1b9d77",
   "metadata": {},
   "outputs": [],
   "source": [
    "scenario.add_set(\"technology\", [\"gas_ppl\"])"
   ]
  },
  {
   "cell_type": "code",
   "execution_count": 7,
   "id": "f06b501a",
   "metadata": {},
   "outputs": [],
   "source": [
    "# Some common values to be used for both the \"input\" and \"output\" parameters\n",
    "base = dict(\n",
    "    node_loc=country,\n",
    "    year_vtg=vintage_years,\n",
    "    year_act=act_years,\n",
    "    mode=\"standard\",\n",
    "    time=\"year\",\n",
    "    unit=\"-\",\n",
    ")\n",
    "\n",
    "# Create a base data frame for different \"output\" parameter values\n",
    "base_output = make_df(\"output\", **base, node_dest=country, time_dest=\"year\")"
   ]
  },
  {
   "cell_type": "markdown",
   "id": "e6d79ce8",
   "metadata": {},
   "source": [
    "#### I chose the **Combined-cycle + Post Combustion Capture Gas Power Plant** , and used the data from JRC-EU-TIMES model.[1]"
   ]
  },
  {
   "cell_type": "code",
   "execution_count": 8,
   "id": "4149403c",
   "metadata": {},
   "outputs": [],
   "source": [
    "# Add gas power plant output\n",
    "gas_out = base_output.assign(\n",
    "    technology=\"gas_ppl\",\n",
    "    commodity=\"electricity\",\n",
    "    level=\"secondary\",\n",
    "    value=1.0,\n",
    "    unit=\"GWa\",\n",
    ")\n",
    "scenario.add_par(\"output\", gas_out)"
   ]
  },
  {
   "cell_type": "markdown",
   "id": "02afd258",
   "metadata": {},
   "source": [
    "### A.3) Add operational constraints and parameters for new gas power plant"
   ]
  },
  {
   "cell_type": "code",
   "execution_count": 9,
   "id": "f42f97e6",
   "metadata": {},
   "outputs": [],
   "source": [
    "# Add the capacity factor [1]\n",
    "\n",
    "capacity_factor = {\n",
    "    \"gas_ppl\": 1,\n",
    "}\n",
    "\n",
    "for tec, val in capacity_factor.items():\n",
    "    df = make_df(\n",
    "        \"capacity_factor\",\n",
    "        node_loc=country,\n",
    "        year_vtg=vintage_years,\n",
    "        year_act=act_years,\n",
    "        time=\"year\",\n",
    "        unit=\"-\",\n",
    "        technology=tec,\n",
    "        value=val,\n",
    "    )\n",
    "    scenario.add_par(\"capacity_factor\", df)"
   ]
  },
  {
   "cell_type": "code",
   "execution_count": 10,
   "id": "6975ae39",
   "metadata": {},
   "outputs": [],
   "source": [
    "# Add the technical life time [1]\n",
    "\n",
    "lifetime = {\n",
    "    \"gas_ppl\": 25,\n",
    "}\n",
    "\n",
    "for tec, val in lifetime.items():\n",
    "    df = make_df(\n",
    "        \"technical_lifetime\",\n",
    "        node_loc=country,\n",
    "        year_vtg=model_horizon,\n",
    "        unit=\"y\",\n",
    "        technology=tec,\n",
    "        value=val,\n",
    "    )\n",
    "    scenario.add_par(\"technical_lifetime\", df)"
   ]
  },
  {
   "cell_type": "markdown",
   "id": "9541bf35",
   "metadata": {},
   "source": [
    "### A.4) Add technological diffusion and contraction"
   ]
  },
  {
   "cell_type": "code",
   "execution_count": 11,
   "id": "3fb79ae3",
   "metadata": {},
   "outputs": [],
   "source": [
    "# I kept the growth rate for gas power plant same as the existing power plants (10%) \n",
    "\n",
    "growth_technologies = [\n",
    "    \"coal_ppl\",\n",
    "    \"wind_ppl\",\n",
    "    \"gas_ppl\"\n",
    "]\n",
    "\n",
    "for tec in growth_technologies:\n",
    "    df = make_df(\n",
    "        \"growth_activity_up\",\n",
    "        node_loc=country,\n",
    "        year_act=model_horizon,\n",
    "        time=\"year\",\n",
    "        unit=\"-\",\n",
    "        technology=tec,\n",
    "        value=0.1,\n",
    "    )\n",
    "    scenario.add_par(\"growth_activity_up\", df)"
   ]
  },
  {
   "cell_type": "markdown",
   "id": "c4e42819",
   "metadata": {},
   "source": [
    "### A.5) Defining the Energy Mix"
   ]
  },
  {
   "cell_type": "code",
   "execution_count": 12,
   "id": "1eb03a11",
   "metadata": {},
   "outputs": [],
   "source": [
    "# Same as the baseline\n",
    "\n",
    "demand_per_year = 40 * 12 * 1000 / 8760"
   ]
  },
  {
   "cell_type": "code",
   "execution_count": 13,
   "id": "2cb096ef",
   "metadata": {},
   "outputs": [],
   "source": [
    "grid_efficiency = 0.9"
   ]
  },
  {
   "cell_type": "code",
   "execution_count": 14,
   "id": "b80c09a6",
   "metadata": {},
   "outputs": [],
   "source": [
    "historic_demand = 0.5 * demand_per_year\n",
    "historic_generation = historic_demand / grid_efficiency\n",
    "coal_fraction = 0.4\n",
    "gas_fraction = 0.3\n",
    "wind_fraction = 0.3"
   ]
  },
  {
   "cell_type": "code",
   "execution_count": 15,
   "id": "d4fad459",
   "metadata": {},
   "outputs": [],
   "source": [
    "# Define the activity in the historic period.\n",
    "\n",
    "old_activity = {\n",
    "    \"coal_ppl\": coal_fraction * historic_generation,\n",
    "    \"wind_ppl\": wind_fraction * historic_generation,\n",
    "    \"gas_ppl\": gas_fraction * historic_generation,\n",
    "}\n",
    "\n",
    "history = [690]\n",
    "\n",
    "for tec, val in old_activity.items():\n",
    "    df = make_df(\n",
    "        \"historical_activity\",\n",
    "        node_loc=country,\n",
    "        year_act=history,\n",
    "        mode=\"standard\",\n",
    "        time=\"year\",\n",
    "        unit=\"GWa\",\n",
    "        technology=tec,\n",
    "        value=val,\n",
    "    )\n",
    "    scenario.add_par(\"historical_activity\", df)"
   ]
  },
  {
   "cell_type": "markdown",
   "id": "f245ed8d",
   "metadata": {},
   "source": [
    "### A.6) Add specific investments costs (eur2010/kW) [1]"
   ]
  },
  {
   "cell_type": "code",
   "execution_count": 16,
   "id": "0a31576b",
   "metadata": {},
   "outputs": [],
   "source": [
    "# Add a new unit for ixmp to recognize as valid\n",
    "mp.add_unit(\"eur2010/kW\")\n",
    "\n",
    "# in eur2010/kW specific investment cost for year 2020\n",
    "costs = {\n",
    "    \"gas_ppl\": 1244,\n",
    "}\n",
    "\n",
    "for tec, val in costs.items():\n",
    "    df = make_df(\n",
    "        \"inv_cost\",\n",
    "        node_loc=country,\n",
    "        year_vtg=model_horizon,\n",
    "        unit=\"eur2010/kW\",\n",
    "        technology=tec,\n",
    "        value=val,\n",
    "    )\n",
    "    scenario.add_par(\"inv_cost\", df)"
   ]
  },
  {
   "cell_type": "markdown",
   "id": "269cf3e7",
   "metadata": {},
   "source": [
    "### A.7) Add fixed O&M costs"
   ]
  },
  {
   "cell_type": "code",
   "execution_count": 17,
   "id": "5ba12b95",
   "metadata": {},
   "outputs": [],
   "source": [
    "# Add the fixed O&M costs in eur2010/kW\n",
    "\n",
    "costs = {\n",
    "    \"gas_ppl\": 44,\n",
    "}\n",
    "\n",
    "for tec, val in costs.items():\n",
    "    df = make_df(\n",
    "        \"fix_cost\",\n",
    "        node_loc=country,\n",
    "        year_vtg=vintage_years,\n",
    "        year_act=act_years,\n",
    "        unit=\"eur2010/kW\",\n",
    "        technology=tec,\n",
    "        value=val,\n",
    "    )\n",
    "    scenario.add_par(\"fix_cost\", df)"
   ]
  },
  {
   "cell_type": "markdown",
   "id": "b8ea8131",
   "metadata": {},
   "source": [
    "### A.8) Add variable O&M costs [2]"
   ]
  },
  {
   "cell_type": "code",
   "execution_count": 18,
   "id": "00fcf89f",
   "metadata": {},
   "outputs": [],
   "source": [
    "mp.add_unit(\"eur/MWh\")\n",
    "\n",
    "costs = {\n",
    "    \"gas_ppl\": 4,\n",
    "}\n",
    "\n",
    "for tec, val in costs.items():\n",
    "    df = make_df(\n",
    "        \"var_cost\",\n",
    "        node_loc=country,\n",
    "        year_vtg=vintage_years,\n",
    "        year_act=act_years,\n",
    "        mode=\"standard\",\n",
    "        time=\"year\",\n",
    "        unit=\"eur/MWh\",\n",
    "        technology=tec,\n",
    "        value=val,\n",
    "    )\n",
    "    scenario.add_par(\"var_cost\", df)"
   ]
  },
  {
   "cell_type": "markdown",
   "id": "819f243a",
   "metadata": {},
   "source": [
    "### A.9) Solve the model"
   ]
  },
  {
   "cell_type": "code",
   "execution_count": 19,
   "id": "dbf1f265",
   "metadata": {},
   "outputs": [],
   "source": [
    "from message_ix import log\n",
    "\n",
    "log.info(f\"version number before commit(): {scenario.version}\")\n",
    "\n",
    "scenario.commit(comment=\"adding a gas power plant\")\n",
    "\n",
    "log.info(f\"version number after commit(): {scenario.version}\")"
   ]
  },
  {
   "cell_type": "code",
   "execution_count": 20,
   "id": "b30a39bb",
   "metadata": {},
   "outputs": [],
   "source": [
    "scenario.set_as_default()"
   ]
  },
  {
   "cell_type": "code",
   "execution_count": 21,
   "id": "9ca6dd79",
   "metadata": {},
   "outputs": [],
   "source": [
    "scenario.solve()"
   ]
  },
  {
   "cell_type": "code",
   "execution_count": 22,
   "id": "bd3c8501",
   "metadata": {},
   "outputs": [
    {
     "data": {
      "text/plain": [
       "176307.0625"
      ]
     },
     "execution_count": 22,
     "metadata": {},
     "output_type": "execute_result"
    }
   ],
   "source": [
    "scenario.var(\"OBJ\")[\"lvl\"]"
   ]
  },
  {
   "cell_type": "markdown",
   "id": "ed02569a",
   "metadata": {},
   "source": [
    "### A.10) Plotting the results"
   ]
  },
  {
   "cell_type": "code",
   "execution_count": 23,
   "id": "26e9f088",
   "metadata": {},
   "outputs": [],
   "source": [
    "from message_ix.reporting import Reporter\n",
    "\n",
    "rep = Reporter.from_scenario(scenario)\n",
    "\n",
    "from message_ix.util.tutorial import prepare_plots\n",
    "\n",
    "prepare_plots(rep)"
   ]
  },
  {
   "cell_type": "markdown",
   "id": "764d2e03",
   "metadata": {},
   "source": [
    "### Activity "
   ]
  },
  {
   "cell_type": "code",
   "execution_count": 24,
   "id": "f9cfb0a6",
   "metadata": {},
   "outputs": [
    {
     "data": {
      "text/plain": [
       "<AxesSubplot:title={'center':'Westeros Energy System Activity'}, xlabel='Year', ylabel='GWa'>"
      ]
     },
     "execution_count": 24,
     "metadata": {},
     "output_type": "execute_result"
    },
    {
     "data": {
      "image/png": "[encoded data removed]",
      "text/plain": [
       "<Figure size 432x288 with 1 Axes>"
      ]
     },
     "metadata": {
      "needs_background": "light"
     },
     "output_type": "display_data"
    }
   ],
   "source": [
    "rep.set_filters(t=[\"coal_ppl\", \"wind_ppl\", \"gas_ppl\"])\n",
    "\n",
    "# Trigger the calculation and plotting\n",
    "rep.get(\"plot activity\")"
   ]
  },
  {
   "cell_type": "markdown",
   "id": "330b6831",
   "metadata": {},
   "source": [
    "### Capacity"
   ]
  },
  {
   "cell_type": "code",
   "execution_count": 25,
   "id": "3a5c949b",
   "metadata": {},
   "outputs": [
    {
     "data": {
      "text/plain": [
       "<AxesSubplot:title={'center':'Westeros Energy System Capacity'}, xlabel='Year', ylabel='GW'>"
      ]
     },
     "execution_count": 25,
     "metadata": {},
     "output_type": "execute_result"
    },
    {
     "data": {
      "image/png": "[encoded data removed]",
      "text/plain": [
       "<Figure size 432x288 with 1 Axes>"
      ]
     },
     "metadata": {
      "needs_background": "light"
     },
     "output_type": "display_data"
    }
   ],
   "source": [
    "rep.get(\"plot capacity\")"
   ]
  },
  {
   "cell_type": "markdown",
   "id": "b5c42b7a",
   "metadata": {},
   "source": [
    "### New capacity"
   ]
  },
  {
   "cell_type": "code",
   "execution_count": 26,
   "id": "3ee18922",
   "metadata": {},
   "outputs": [
    {
     "data": {
      "text/plain": [
       "<AxesSubplot:title={'center':'Westeros Energy System New Capacity'}, xlabel='Year', ylabel='GWa'>"
      ]
     },
     "execution_count": 26,
     "metadata": {},
     "output_type": "execute_result"
    },
    {
     "data": {
      "image/png": "[encoded data removed]",
      "text/plain": [
       "<Figure size 432x288 with 1 Axes>"
      ]
     },
     "metadata": {
      "needs_background": "light"
     },
     "output_type": "display_data"
    }
   ],
   "source": [
    "rep.get(\"plot new capacity\")"
   ]
  },
  {
   "cell_type": "markdown",
   "id": "b23108f2",
   "metadata": {},
   "source": [
    "## B) Adding emissions (from Westeros Tutorial - Introducing emissions part1/2)"
   ]
  },
  {
   "cell_type": "code",
   "execution_count": 27,
   "id": "55b824a1",
   "metadata": {},
   "outputs": [],
   "source": [
    "model = \"Westeros Electrified\"\n",
    "\n",
    "base = message_ix.Scenario(mp, model=model, scenario=\"add_gas_ppl\")\n",
    "scenario = base.clone(\n",
    "    model,\n",
    "    \"gas_ppl_emission_bound\",\n",
    "    \"adding emissions to add_gas_ppl\",\n",
    "    keep_solution=False,\n",
    ")\n",
    "scenario.check_out()"
   ]
  },
  {
   "cell_type": "code",
   "execution_count": 28,
   "id": "e9740504",
   "metadata": {},
   "outputs": [],
   "source": [
    "year_df = scenario.vintage_and_active_years()\n",
    "vintage_years, act_years = year_df[\"year_vtg\"], year_df[\"year_act\"]\n",
    "model_horizon = scenario.set(\"year\")\n",
    "country = \"Westeros\""
   ]
  },
  {
   "cell_type": "code",
   "execution_count": 29,
   "id": "d98ff346",
   "metadata": {},
   "outputs": [],
   "source": [
    "# First we introduce the emission of CO2 and the emission category GHG\n",
    "scenario.add_set(\"emission\", \"CO2\")\n",
    "scenario.add_cat(\"emission\", \"GHG\", \"CO2\")\n",
    "\n",
    "# Then we add new units to the model library (needed only once)\n",
    "mp.add_unit(\"tCO2/kWa\")\n",
    "mp.add_unit(\"MtCO2\")\n",
    "\n",
    "# Last we add CO2 emissions to the coal powerplant\n",
    "emission_factor = make_df(\n",
    "    \"emission_factor\",\n",
    "    node_loc=country,\n",
    "    year_vtg=vintage_years,\n",
    "    year_act=act_years,\n",
    "    mode=\"standard\",\n",
    "    unit=\"tCO2/kWa\",\n",
    "    technology=\"coal_ppl\",\n",
    "    emission=\"CO2\",\n",
    "    value=7.4,\n",
    ")\n",
    "scenario.add_par(\"emission_factor\", emission_factor)"
   ]
  },
  {
   "cell_type": "markdown",
   "id": "ba0bc719",
   "metadata": {},
   "source": [
    "### B.1) Add emission factor for the gas power plant [1]"
   ]
  },
  {
   "cell_type": "code",
   "execution_count": 30,
   "id": "c650daba",
   "metadata": {},
   "outputs": [],
   "source": [
    "emission_factor = make_df(\n",
    "    \"emission_factor\",\n",
    "    node_loc=country,\n",
    "    year_vtg=vintage_years,\n",
    "    year_act=act_years,\n",
    "    mode=\"standard\",\n",
    "    unit=\"tCO2/kWa\",\n",
    "    technology=\"gas_ppl\",\n",
    "    emission=\"CO2\",\n",
    "    value=5.4, \n",
    ")\n",
    "scenario.add_par(\"emission_factor\", emission_factor)"
   ]
  },
  {
   "cell_type": "markdown",
   "id": "c7fd8ee7",
   "metadata": {},
   "source": [
    "### B.2) Define a bound on emissions"
   ]
  },
  {
   "cell_type": "code",
   "execution_count": 31,
   "id": "c7f406f0",
   "metadata": {},
   "outputs": [],
   "source": [
    "scenario.add_par(\n",
    "    \"bound_emission\", [country, \"GHG\", \"all\", \"cumulative\"], value=500.0, unit=\"MtCO2\"\n",
    ")"
   ]
  },
  {
   "cell_type": "markdown",
   "id": "0d2f9682",
   "metadata": {},
   "source": [
    "### B.3) Solve the model"
   ]
  },
  {
   "cell_type": "code",
   "execution_count": 32,
   "id": "10471e86",
   "metadata": {},
   "outputs": [],
   "source": [
    "scenario.commit(comment=\"Adding emissions to add_gas_ppl scenario\")\n",
    "scenario.set_as_default()"
   ]
  },
  {
   "cell_type": "code",
   "execution_count": 33,
   "id": "f50e1cf7",
   "metadata": {},
   "outputs": [],
   "source": [
    "scenario.solve()"
   ]
  },
  {
   "cell_type": "code",
   "execution_count": 34,
   "id": "5d3c370f",
   "metadata": {},
   "outputs": [
    {
     "data": {
      "text/plain": [
       "191640.046875"
      ]
     },
     "execution_count": 34,
     "metadata": {},
     "output_type": "execute_result"
    }
   ],
   "source": [
    "scenario.var(\"OBJ\")[\"lvl\"]"
   ]
  },
  {
   "cell_type": "markdown",
   "id": "f9ae0245",
   "metadata": {},
   "source": [
    "### B.4) Check the emission levels and emission prices (from Westeros Tutorial - Introducing emissions part2/2)"
   ]
  },
  {
   "cell_type": "code",
   "execution_count": 35,
   "id": "3cac6055",
   "metadata": {},
   "outputs": [],
   "source": [
    "scenario_bd = message_ix.Scenario(mp, model=model, scenario=\"gas_ppl_emission_bound\")"
   ]
  },
  {
   "cell_type": "code",
   "execution_count": 36,
   "id": "0e6b9a4c",
   "metadata": {},
   "outputs": [
    {
     "data": {
      "text/html": [
       "<div>\n",
       "<style scoped>\n",
       "    .dataframe tbody tr th:only-of-type {\n",
       "        vertical-align: middle;\n",
       "    }\n",
       "\n",
       "    .dataframe tbody tr th {\n",
       "        vertical-align: top;\n",
       "    }\n",
       "\n",
       "    .dataframe thead th {\n",
       "        text-align: right;\n",
       "    }\n",
       "</style>\n",
       "<table border=\"1\" class=\"dataframe\">\n",
       "  <thead>\n",
       "    <tr style=\"text-align: right;\">\n",
       "      <th></th>\n",
       "      <th>node</th>\n",
       "      <th>emission</th>\n",
       "      <th>type_tec</th>\n",
       "      <th>year</th>\n",
       "      <th>lvl</th>\n",
       "      <th>mrg</th>\n",
       "    </tr>\n",
       "  </thead>\n",
       "  <tbody>\n",
       "    <tr>\n",
       "      <th>0</th>\n",
       "      <td>Westeros</td>\n",
       "      <td>CO2</td>\n",
       "      <td>all</td>\n",
       "      <td>700</td>\n",
       "      <td>314.741386</td>\n",
       "      <td>0.0</td>\n",
       "    </tr>\n",
       "    <tr>\n",
       "      <th>1</th>\n",
       "      <td>Westeros</td>\n",
       "      <td>CO2</td>\n",
       "      <td>all</td>\n",
       "      <td>710</td>\n",
       "      <td>551.345511</td>\n",
       "      <td>0.0</td>\n",
       "    </tr>\n",
       "    <tr>\n",
       "      <th>2</th>\n",
       "      <td>Westeros</td>\n",
       "      <td>CO2</td>\n",
       "      <td>all</td>\n",
       "      <td>720</td>\n",
       "      <td>633.913103</td>\n",
       "      <td>0.0</td>\n",
       "    </tr>\n",
       "  </tbody>\n",
       "</table>\n",
       "</div>"
      ],
      "text/plain": [
       "       node emission type_tec  year         lvl  mrg\n",
       "0  Westeros      CO2      all   700  314.741386  0.0\n",
       "1  Westeros      CO2      all   710  551.345511  0.0\n",
       "2  Westeros      CO2      all   720  633.913103  0.0"
      ]
     },
     "execution_count": 36,
     "metadata": {},
     "output_type": "execute_result"
    }
   ],
   "source": [
    "# Emissions in MtCO2\n",
    "emissions = scenario_bd.var(\"EMISS\", {\"node\": \"Westeros\"})\n",
    "emissions"
   ]
  },
  {
   "cell_type": "code",
   "execution_count": 37,
   "id": "5375c7bc",
   "metadata": {},
   "outputs": [
    {
     "data": {
      "text/html": [
       "<div>\n",
       "<style scoped>\n",
       "    .dataframe tbody tr th:only-of-type {\n",
       "        vertical-align: middle;\n",
       "    }\n",
       "\n",
       "    .dataframe tbody tr th {\n",
       "        vertical-align: top;\n",
       "    }\n",
       "\n",
       "    .dataframe thead th {\n",
       "        text-align: right;\n",
       "    }\n",
       "</style>\n",
       "<table border=\"1\" class=\"dataframe\">\n",
       "  <thead>\n",
       "    <tr style=\"text-align: right;\">\n",
       "      <th></th>\n",
       "      <th>node</th>\n",
       "      <th>type_emission</th>\n",
       "      <th>type_tec</th>\n",
       "      <th>year</th>\n",
       "      <th>lvl</th>\n",
       "      <th>mrg</th>\n",
       "    </tr>\n",
       "  </thead>\n",
       "  <tbody>\n",
       "    <tr>\n",
       "      <th>0</th>\n",
       "      <td>Westeros</td>\n",
       "      <td>GHG</td>\n",
       "      <td>all</td>\n",
       "      <td>700</td>\n",
       "      <td>10.298336</td>\n",
       "      <td>0.0</td>\n",
       "    </tr>\n",
       "    <tr>\n",
       "      <th>1</th>\n",
       "      <td>Westeros</td>\n",
       "      <td>GHG</td>\n",
       "      <td>all</td>\n",
       "      <td>710</td>\n",
       "      <td>16.774903</td>\n",
       "      <td>0.0</td>\n",
       "    </tr>\n",
       "    <tr>\n",
       "      <th>2</th>\n",
       "      <td>Westeros</td>\n",
       "      <td>GHG</td>\n",
       "      <td>all</td>\n",
       "      <td>720</td>\n",
       "      <td>27.324550</td>\n",
       "      <td>0.0</td>\n",
       "    </tr>\n",
       "  </tbody>\n",
       "</table>\n",
       "</div>"
      ],
      "text/plain": [
       "       node type_emission type_tec  year        lvl  mrg\n",
       "0  Westeros           GHG      all   700  10.298336  0.0\n",
       "1  Westeros           GHG      all   710  16.774903  0.0\n",
       "2  Westeros           GHG      all   720  27.324550  0.0"
      ]
     },
     "execution_count": 37,
     "metadata": {},
     "output_type": "execute_result"
    }
   ],
   "source": [
    "# Price in USD/tCO2\n",
    "emission_prices = scenario_bd.var(\"PRICE_EMISSION\")\n",
    "emission_prices"
   ]
  },
  {
   "cell_type": "markdown",
   "id": "e5cd210e",
   "metadata": {},
   "source": [
    "### B.5) Plotting Results"
   ]
  },
  {
   "cell_type": "code",
   "execution_count": 38,
   "id": "1efe1d5a",
   "metadata": {},
   "outputs": [],
   "source": [
    "from message_ix.reporting import Reporter\n",
    "from message_ix.util.tutorial import prepare_plots\n",
    "\n",
    "rep = Reporter.from_scenario(scenario_bd)\n",
    "prepare_plots(rep)"
   ]
  },
  {
   "cell_type": "code",
   "execution_count": 39,
   "id": "cb3c6f5f",
   "metadata": {
    "scrolled": true
   },
   "outputs": [
    {
     "data": {
      "text/plain": [
       "<AxesSubplot:title={'center':'Westeros Energy System Activity'}, xlabel='Year', ylabel='GWa'>"
      ]
     },
     "execution_count": 39,
     "metadata": {},
     "output_type": "execute_result"
    },
    {
     "data": {
      "image/png": "[encoded data removed]",
      "text/plain": [
       "<Figure size 432x288 with 1 Axes>"
      ]
     },
     "metadata": {
      "needs_background": "light"
     },
     "output_type": "display_data"
    }
   ],
   "source": [
    "rep.set_filters(t=[\"coal_ppl\", \"wind_ppl\", \"gas_ppl\"])\n",
    "rep.get(\"plot activity\")"
   ]
  },
  {
   "cell_type": "markdown",
   "id": "c02ee533",
   "metadata": {},
   "source": [
    "When we look at the system after introducing emission bound, it can be seen that the use of coal is significantly decreased. This can be explained by its high emission factor. Gas constitutes the majority of the energy mix of Westeros in 720. Since I introduced a combined cycle with a post-combustion capture gas power plant, I assumed the emission factor for this plant was lower than the standard combined cycle gas plants."
   ]
  },
  {
   "cell_type": "code",
   "execution_count": 40,
   "id": "1ca5c5b4",
   "metadata": {},
   "outputs": [
    {
     "data": {
      "text/plain": [
       "<AxesSubplot:title={'center':'Westeros Energy System Capacity'}, xlabel='Year', ylabel='GW'>"
      ]
     },
     "execution_count": 40,
     "metadata": {},
     "output_type": "execute_result"
    },
    {
     "data": {
      "image/png": "[encoded data removed]",
      "text/plain": [
       "<Figure size 432x288 with 1 Axes>"
      ]
     },
     "metadata": {
      "needs_background": "light"
     },
     "output_type": "display_data"
    }
   ],
   "source": [
    "rep.get(\"plot capacity\")"
   ]
  },
  {
   "cell_type": "markdown",
   "id": "91c9ca54",
   "metadata": {},
   "source": [
    "## C) Sensitivity Analysis with scenarios"
   ]
  },
  {
   "cell_type": "markdown",
   "id": "edc6ccfc",
   "metadata": {},
   "source": [
    "### C.1) Higher Emission Prices"
   ]
  },
  {
   "cell_type": "markdown",
   "id": "3a6ffd6d",
   "metadata": {},
   "source": [
    "In this **Higher Emission Prices** scenario, reference emission prices are multipled with 3. I'm expecting to see the wind as major power generation resource with this approach."
   ]
  },
  {
   "cell_type": "code",
   "execution_count": 41,
   "id": "fb4a4824",
   "metadata": {},
   "outputs": [
    {
     "data": {
      "text/plain": [
       "year\n",
       "700    30.895007\n",
       "710    50.324710\n",
       "720    81.973650\n",
       "Name: lvl, dtype: float64"
      ]
     },
     "execution_count": 41,
     "metadata": {},
     "output_type": "execute_result"
    }
   ],
   "source": [
    "higher_emission_prices = emission_prices.set_index(\"year\").lvl*3\n",
    "higher_emission_prices"
   ]
  },
  {
   "cell_type": "code",
   "execution_count": 42,
   "id": "4b838fba",
   "metadata": {},
   "outputs": [],
   "source": [
    "base = message_ix.Scenario(mp, model=model, scenario=\"add_gas_ppl\")\n",
    "\n",
    "scenario_higher = base.clone(\n",
    "    model,\n",
    "    \"gas_ppl_higher_emission\", \n",
    "    \"adding higher carbon price\", \n",
    "    keep_solution=False,\n",
    ")\n",
    "scenario_higher.check_out()"
   ]
  },
  {
   "cell_type": "code",
   "execution_count": 43,
   "id": "afb09588",
   "metadata": {},
   "outputs": [],
   "source": [
    "scenario_higher.add_set(\"emission\", \"CO2\")\n",
    "scenario_higher.add_cat(\"emission\", \"GHG\", \"CO2\")\n",
    "scenario_higher.add_par(\"emission_factor\", scenario_bd.par(\"emission_factor\"))"
   ]
  },
  {
   "cell_type": "code",
   "execution_count": 44,
   "id": "ec6696c4",
   "metadata": {},
   "outputs": [
    {
     "data": {
      "text/html": [
       "<div>\n",
       "<style scoped>\n",
       "    .dataframe tbody tr th:only-of-type {\n",
       "        vertical-align: middle;\n",
       "    }\n",
       "\n",
       "    .dataframe tbody tr th {\n",
       "        vertical-align: top;\n",
       "    }\n",
       "\n",
       "    .dataframe thead th {\n",
       "        text-align: right;\n",
       "    }\n",
       "</style>\n",
       "<table border=\"1\" class=\"dataframe\">\n",
       "  <thead>\n",
       "    <tr style=\"text-align: right;\">\n",
       "      <th></th>\n",
       "      <th>node</th>\n",
       "      <th>type_emission</th>\n",
       "      <th>type_tec</th>\n",
       "      <th>type_year</th>\n",
       "      <th>value</th>\n",
       "      <th>unit</th>\n",
       "    </tr>\n",
       "  </thead>\n",
       "  <tbody>\n",
       "    <tr>\n",
       "      <th>0</th>\n",
       "      <td>Westeros</td>\n",
       "      <td>GHG</td>\n",
       "      <td>all</td>\n",
       "      <td>700</td>\n",
       "      <td>30.895007</td>\n",
       "      <td>USD/tCO2</td>\n",
       "    </tr>\n",
       "    <tr>\n",
       "      <th>1</th>\n",
       "      <td>Westeros</td>\n",
       "      <td>GHG</td>\n",
       "      <td>all</td>\n",
       "      <td>710</td>\n",
       "      <td>50.324710</td>\n",
       "      <td>USD/tCO2</td>\n",
       "    </tr>\n",
       "    <tr>\n",
       "      <th>2</th>\n",
       "      <td>Westeros</td>\n",
       "      <td>GHG</td>\n",
       "      <td>all</td>\n",
       "      <td>720</td>\n",
       "      <td>81.973650</td>\n",
       "      <td>USD/tCO2</td>\n",
       "    </tr>\n",
       "  </tbody>\n",
       "</table>\n",
       "</div>"
      ],
      "text/plain": [
       "       node type_emission type_tec type_year      value      unit\n",
       "0  Westeros           GHG      all       700  30.895007  USD/tCO2\n",
       "1  Westeros           GHG      all       710  50.324710  USD/tCO2\n",
       "2  Westeros           GHG      all       720  81.973650  USD/tCO2"
      ]
     },
     "execution_count": 44,
     "metadata": {},
     "output_type": "execute_result"
    }
   ],
   "source": [
    "scenario_higher.add_set(\"type_year\", [700, 710, 720])\n",
    "\n",
    "# In case you need to add the new unit to the platform\n",
    "mp.add_unit(\"USD/tCO2\")\n",
    "\n",
    "tax_emission = make_df(\n",
    "    \"tax_emission\",\n",
    "    node=\"Westeros\",\n",
    "    type_year=[700, 710, 720],\n",
    "    type_tec=\"all\",\n",
    "    unit=\"USD/tCO2\",\n",
    "    type_emission=\"GHG\",\n",
    "    value=higher_emission_prices,\n",
    ")\n",
    "scenario_higher.add_par(\"tax_emission\", tax_emission)\n",
    "scenario_higher.par(\"tax_emission\")"
   ]
  },
  {
   "cell_type": "code",
   "execution_count": 45,
   "id": "b882e9f6",
   "metadata": {},
   "outputs": [],
   "source": [
    "scenario_higher.commit(comment=\"setting higher taxes on emissions\")"
   ]
  },
  {
   "cell_type": "code",
   "execution_count": 46,
   "id": "e62e8f08",
   "metadata": {},
   "outputs": [],
   "source": [
    "scenario_higher.solve()"
   ]
  },
  {
   "cell_type": "code",
   "execution_count": 47,
   "id": "7b0c98d0",
   "metadata": {},
   "outputs": [
    {
     "data": {
      "text/html": [
       "<div>\n",
       "<style scoped>\n",
       "    .dataframe tbody tr th:only-of-type {\n",
       "        vertical-align: middle;\n",
       "    }\n",
       "\n",
       "    .dataframe tbody tr th {\n",
       "        vertical-align: top;\n",
       "    }\n",
       "\n",
       "    .dataframe thead th {\n",
       "        text-align: right;\n",
       "    }\n",
       "</style>\n",
       "<table border=\"1\" class=\"dataframe\">\n",
       "  <thead>\n",
       "    <tr style=\"text-align: right;\">\n",
       "      <th></th>\n",
       "      <th>node</th>\n",
       "      <th>emission</th>\n",
       "      <th>type_tec</th>\n",
       "      <th>year</th>\n",
       "      <th>lvl</th>\n",
       "      <th>mrg</th>\n",
       "    </tr>\n",
       "  </thead>\n",
       "  <tbody>\n",
       "    <tr>\n",
       "      <th>0</th>\n",
       "      <td>Westeros</td>\n",
       "      <td>CO2</td>\n",
       "      <td>all</td>\n",
       "      <td>700</td>\n",
       "      <td>229.563052</td>\n",
       "      <td>0.0</td>\n",
       "    </tr>\n",
       "    <tr>\n",
       "      <th>1</th>\n",
       "      <td>Westeros</td>\n",
       "      <td>CO2</td>\n",
       "      <td>all</td>\n",
       "      <td>710</td>\n",
       "      <td>160.232879</td>\n",
       "      <td>0.0</td>\n",
       "    </tr>\n",
       "    <tr>\n",
       "      <th>2</th>\n",
       "      <td>Westeros</td>\n",
       "      <td>CO2</td>\n",
       "      <td>all</td>\n",
       "      <td>720</td>\n",
       "      <td>0.000000</td>\n",
       "      <td>0.0</td>\n",
       "    </tr>\n",
       "  </tbody>\n",
       "</table>\n",
       "</div>"
      ],
      "text/plain": [
       "       node emission type_tec  year         lvl  mrg\n",
       "0  Westeros      CO2      all   700  229.563052  0.0\n",
       "1  Westeros      CO2      all   710  160.232879  0.0\n",
       "2  Westeros      CO2      all   720    0.000000  0.0"
      ]
     },
     "execution_count": 47,
     "metadata": {},
     "output_type": "execute_result"
    }
   ],
   "source": [
    "scenario_higher.var(\"EMISS\", {\"node\": \"Westeros\"})"
   ]
  },
  {
   "cell_type": "markdown",
   "id": "ffc47d3c",
   "metadata": {},
   "source": [
    "### Results of Higher Emission Prices scenario"
   ]
  },
  {
   "cell_type": "code",
   "execution_count": 48,
   "id": "67894300",
   "metadata": {},
   "outputs": [],
   "source": [
    "from message_ix.reporting import Reporter\n",
    "from message_ix.util.tutorial import prepare_plots\n",
    "\n",
    "rep = Reporter.from_scenario(scenario_higher)\n",
    "prepare_plots(rep)"
   ]
  },
  {
   "cell_type": "code",
   "execution_count": 49,
   "id": "e541fe50",
   "metadata": {
    "scrolled": true
   },
   "outputs": [
    {
     "data": {
      "text/plain": [
       "<AxesSubplot:title={'center':'Westeros Energy System Activity'}, xlabel='Year', ylabel='GWa'>"
      ]
     },
     "execution_count": 49,
     "metadata": {},
     "output_type": "execute_result"
    },
    {
     "data": {
      "image/png": "[encoded data removed]",
      "text/plain": [
       "<Figure size 432x288 with 1 Axes>"
      ]
     },
     "metadata": {
      "needs_background": "light"
     },
     "output_type": "display_data"
    }
   ],
   "source": [
    "rep.set_filters(t=[\"coal_ppl\", \"wind_ppl\", \"gas_ppl\"])\n",
    "rep.get(\"plot activity\")"
   ]
  },
  {
   "cell_type": "code",
   "execution_count": 50,
   "id": "b4ad7ddb",
   "metadata": {},
   "outputs": [
    {
     "data": {
      "text/plain": [
       "<AxesSubplot:title={'center':'Westeros Energy System Capacity'}, xlabel='Year', ylabel='GW'>"
      ]
     },
     "execution_count": 50,
     "metadata": {},
     "output_type": "execute_result"
    },
    {
     "data": {
      "image/png": "[encoded data removed]",
      "text/plain": [
       "<Figure size 432x288 with 1 Axes>"
      ]
     },
     "metadata": {
      "needs_background": "light"
     },
     "output_type": "display_data"
    }
   ],
   "source": [
    "rep.get(\"plot capacity\")"
   ]
  },
  {
   "cell_type": "markdown",
   "id": "50690a6c",
   "metadata": {},
   "source": [
    "As I expected at the beginning, coal and gas phased out until 720."
   ]
  },
  {
   "cell_type": "markdown",
   "id": "e7cc6c46",
   "metadata": {},
   "source": [
    "### C.2) Lower Emission Prices"
   ]
  },
  {
   "cell_type": "markdown",
   "id": "89694bd5",
   "metadata": {},
   "source": [
    "In this **Lower Emission Prices** scenario, reference emission prices are divided by 3. I'm expecting to see the coal as the major power generation resource with this approach."
   ]
  },
  {
   "cell_type": "code",
   "execution_count": 51,
   "id": "b45f1be3",
   "metadata": {},
   "outputs": [
    {
     "data": {
      "text/plain": [
       "year\n",
       "700    3.432779\n",
       "710    5.591634\n",
       "720    9.108183\n",
       "Name: lvl, dtype: float64"
      ]
     },
     "execution_count": 51,
     "metadata": {},
     "output_type": "execute_result"
    }
   ],
   "source": [
    "lower_emission_prices = emission_prices.set_index(\"year\").lvl/3\n",
    "lower_emission_prices"
   ]
  },
  {
   "cell_type": "code",
   "execution_count": 52,
   "id": "4f84df6b",
   "metadata": {},
   "outputs": [],
   "source": [
    "base = message_ix.Scenario(mp, model=model, scenario=\"add_gas_ppl\")\n",
    "\n",
    "scenario_lower = base.clone(\n",
    "    model,\n",
    "    \"gas_ppl_lower_emission\", \n",
    "    \"adding lower carbon price\", \n",
    "    keep_solution=False,\n",
    ")\n",
    "scenario_lower.check_out()"
   ]
  },
  {
   "cell_type": "code",
   "execution_count": 53,
   "id": "a4a6a21b",
   "metadata": {},
   "outputs": [],
   "source": [
    "scenario_lower.add_set(\"emission\", \"CO2\")\n",
    "scenario_lower.add_cat(\"emission\", \"GHG\", \"CO2\")\n",
    "scenario_lower.add_par(\"emission_factor\", scenario_bd.par(\"emission_factor\"))"
   ]
  },
  {
   "cell_type": "code",
   "execution_count": 54,
   "id": "ca2c9c55",
   "metadata": {},
   "outputs": [
    {
     "data": {
      "text/html": [
       "<div>\n",
       "<style scoped>\n",
       "    .dataframe tbody tr th:only-of-type {\n",
       "        vertical-align: middle;\n",
       "    }\n",
       "\n",
       "    .dataframe tbody tr th {\n",
       "        vertical-align: top;\n",
       "    }\n",
       "\n",
       "    .dataframe thead th {\n",
       "        text-align: right;\n",
       "    }\n",
       "</style>\n",
       "<table border=\"1\" class=\"dataframe\">\n",
       "  <thead>\n",
       "    <tr style=\"text-align: right;\">\n",
       "      <th></th>\n",
       "      <th>node</th>\n",
       "      <th>type_emission</th>\n",
       "      <th>type_tec</th>\n",
       "      <th>type_year</th>\n",
       "      <th>value</th>\n",
       "      <th>unit</th>\n",
       "    </tr>\n",
       "  </thead>\n",
       "  <tbody>\n",
       "    <tr>\n",
       "      <th>0</th>\n",
       "      <td>Westeros</td>\n",
       "      <td>GHG</td>\n",
       "      <td>all</td>\n",
       "      <td>700</td>\n",
       "      <td>3.432779</td>\n",
       "      <td>USD/tCO2</td>\n",
       "    </tr>\n",
       "    <tr>\n",
       "      <th>1</th>\n",
       "      <td>Westeros</td>\n",
       "      <td>GHG</td>\n",
       "      <td>all</td>\n",
       "      <td>710</td>\n",
       "      <td>5.591634</td>\n",
       "      <td>USD/tCO2</td>\n",
       "    </tr>\n",
       "    <tr>\n",
       "      <th>2</th>\n",
       "      <td>Westeros</td>\n",
       "      <td>GHG</td>\n",
       "      <td>all</td>\n",
       "      <td>720</td>\n",
       "      <td>9.108183</td>\n",
       "      <td>USD/tCO2</td>\n",
       "    </tr>\n",
       "  </tbody>\n",
       "</table>\n",
       "</div>"
      ],
      "text/plain": [
       "       node type_emission type_tec type_year     value      unit\n",
       "0  Westeros           GHG      all       700  3.432779  USD/tCO2\n",
       "1  Westeros           GHG      all       710  5.591634  USD/tCO2\n",
       "2  Westeros           GHG      all       720  9.108183  USD/tCO2"
      ]
     },
     "execution_count": 54,
     "metadata": {},
     "output_type": "execute_result"
    }
   ],
   "source": [
    "scenario_lower.add_set(\"type_year\", [700, 710, 720])\n",
    "\n",
    "# In case you need to add the new unit to the platform\n",
    "mp.add_unit(\"USD/tCO2\")\n",
    "\n",
    "tax_emission = make_df(\n",
    "    \"tax_emission\",\n",
    "    node=\"Westeros\",\n",
    "    type_year=[700, 710, 720],\n",
    "    type_tec=\"all\",\n",
    "    unit=\"USD/tCO2\",\n",
    "    type_emission=\"GHG\",\n",
    "    value=lower_emission_prices,\n",
    ")\n",
    "scenario_lower.add_par(\"tax_emission\", tax_emission)\n",
    "scenario_lower.par(\"tax_emission\")"
   ]
  },
  {
   "cell_type": "code",
   "execution_count": 55,
   "id": "9f2e899a",
   "metadata": {},
   "outputs": [],
   "source": [
    "scenario_lower.commit(comment=\"setting lower taxes on emissions\")"
   ]
  },
  {
   "cell_type": "code",
   "execution_count": 56,
   "id": "06b6e24e",
   "metadata": {},
   "outputs": [],
   "source": [
    "scenario_lower.solve()"
   ]
  },
  {
   "cell_type": "code",
   "execution_count": 57,
   "id": "415588e9",
   "metadata": {},
   "outputs": [
    {
     "data": {
      "text/html": [
       "<div>\n",
       "<style scoped>\n",
       "    .dataframe tbody tr th:only-of-type {\n",
       "        vertical-align: middle;\n",
       "    }\n",
       "\n",
       "    .dataframe tbody tr th {\n",
       "        vertical-align: top;\n",
       "    }\n",
       "\n",
       "    .dataframe thead th {\n",
       "        text-align: right;\n",
       "    }\n",
       "</style>\n",
       "<table border=\"1\" class=\"dataframe\">\n",
       "  <thead>\n",
       "    <tr style=\"text-align: right;\">\n",
       "      <th></th>\n",
       "      <th>node</th>\n",
       "      <th>emission</th>\n",
       "      <th>type_tec</th>\n",
       "      <th>year</th>\n",
       "      <th>lvl</th>\n",
       "      <th>mrg</th>\n",
       "    </tr>\n",
       "  </thead>\n",
       "  <tbody>\n",
       "    <tr>\n",
       "      <th>0</th>\n",
       "      <td>Westeros</td>\n",
       "      <td>CO2</td>\n",
       "      <td>all</td>\n",
       "      <td>700</td>\n",
       "      <td>327.412297</td>\n",
       "      <td>0.0</td>\n",
       "    </tr>\n",
       "    <tr>\n",
       "      <th>1</th>\n",
       "      <td>Westeros</td>\n",
       "      <td>CO2</td>\n",
       "      <td>all</td>\n",
       "      <td>710</td>\n",
       "      <td>639.518842</td>\n",
       "      <td>0.0</td>\n",
       "    </tr>\n",
       "    <tr>\n",
       "      <th>2</th>\n",
       "      <td>Westeros</td>\n",
       "      <td>CO2</td>\n",
       "      <td>all</td>\n",
       "      <td>720</td>\n",
       "      <td>837.759421</td>\n",
       "      <td>0.0</td>\n",
       "    </tr>\n",
       "  </tbody>\n",
       "</table>\n",
       "</div>"
      ],
      "text/plain": [
       "       node emission type_tec  year         lvl  mrg\n",
       "0  Westeros      CO2      all   700  327.412297  0.0\n",
       "1  Westeros      CO2      all   710  639.518842  0.0\n",
       "2  Westeros      CO2      all   720  837.759421  0.0"
      ]
     },
     "execution_count": 57,
     "metadata": {},
     "output_type": "execute_result"
    }
   ],
   "source": [
    "scenario_lower.var(\"EMISS\", {\"node\": \"Westeros\"})"
   ]
  },
  {
   "cell_type": "markdown",
   "id": "bb53554e",
   "metadata": {},
   "source": [
    "### Results of Lower Emission Prices scenario"
   ]
  },
  {
   "cell_type": "code",
   "execution_count": 58,
   "id": "b4494a09",
   "metadata": {},
   "outputs": [],
   "source": [
    "from message_ix.reporting import Reporter\n",
    "from message_ix.util.tutorial import prepare_plots\n",
    "\n",
    "rep = Reporter.from_scenario(scenario_lower)\n",
    "prepare_plots(rep)"
   ]
  },
  {
   "cell_type": "code",
   "execution_count": 59,
   "id": "c4ee88d0",
   "metadata": {
    "scrolled": true
   },
   "outputs": [
    {
     "data": {
      "text/plain": [
       "<AxesSubplot:title={'center':'Westeros Energy System Activity'}, xlabel='Year', ylabel='GWa'>"
      ]
     },
     "execution_count": 59,
     "metadata": {},
     "output_type": "execute_result"
    },
    {
     "data": {
      "image/png": "[encoded data removed]",
      "text/plain": [
       "<Figure size 432x288 with 1 Axes>"
      ]
     },
     "metadata": {
      "needs_background": "light"
     },
     "output_type": "display_data"
    }
   ],
   "source": [
    "rep.set_filters(t=[\"coal_ppl\", \"wind_ppl\", \"gas_ppl\"])\n",
    "rep.get(\"plot activity\")"
   ]
  },
  {
   "cell_type": "code",
   "execution_count": 60,
   "id": "6a2c8a32",
   "metadata": {},
   "outputs": [
    {
     "data": {
      "text/plain": [
       "<AxesSubplot:title={'center':'Westeros Energy System Capacity'}, xlabel='Year', ylabel='GW'>"
      ]
     },
     "execution_count": 60,
     "metadata": {},
     "output_type": "execute_result"
    },
    {
     "data": {
      "image/png": "[encoded data removed]",
      "text/plain": [
       "<Figure size 432x288 with 1 Axes>"
      ]
     },
     "metadata": {
      "needs_background": "light"
     },
     "output_type": "display_data"
    }
   ],
   "source": [
    "rep.get(\"plot capacity\")"
   ]
  },
  {
   "cell_type": "markdown",
   "id": "fe94172c",
   "metadata": {},
   "source": [
    "As I expected at the beginning, coal constitues the majority of electricity generation with gas in 720 with this lower emission prices scenario."
   ]
  },
  {
   "cell_type": "markdown",
   "id": "a96a7c79",
   "metadata": {},
   "source": [
    "### C.3) Sweet-spot"
   ]
  },
  {
   "cell_type": "markdown",
   "id": "5c54f8ef",
   "metadata": {},
   "source": [
    "In this **Sweet-spot** scenario, I'll try to find a set of emission prices where all three power plants will be used to generate power in 720."
   ]
  },
  {
   "cell_type": "code",
   "execution_count": 61,
   "id": "2a1db8d6",
   "metadata": {},
   "outputs": [],
   "source": [
    "base = message_ix.Scenario(mp, model=model, scenario=\"add_gas_ppl\")\n",
    "\n",
    "scenario_sweet_spot = base.clone(\n",
    "    model,\n",
    "    \"gas_ppl_sweet_spot\", \n",
    "    \"finding sweet spot on carbon prices\", \n",
    "    keep_solution=False,\n",
    ")\n",
    "scenario_sweet_spot.check_out()"
   ]
  },
  {
   "cell_type": "code",
   "execution_count": 62,
   "id": "e25315ae",
   "metadata": {},
   "outputs": [],
   "source": [
    "scenario_sweet_spot.add_set(\"emission\", \"CO2\")\n",
    "scenario_sweet_spot.add_cat(\"emission\", \"GHG\", \"CO2\")\n",
    "scenario_sweet_spot.add_par(\"emission_factor\", scenario_bd.par(\"emission_factor\"))"
   ]
  },
  {
   "cell_type": "code",
   "execution_count": 63,
   "id": "87d5bdb2",
   "metadata": {},
   "outputs": [
    {
     "data": {
      "text/html": [
       "<div>\n",
       "<style scoped>\n",
       "    .dataframe tbody tr th:only-of-type {\n",
       "        vertical-align: middle;\n",
       "    }\n",
       "\n",
       "    .dataframe tbody tr th {\n",
       "        vertical-align: top;\n",
       "    }\n",
       "\n",
       "    .dataframe thead th {\n",
       "        text-align: right;\n",
       "    }\n",
       "</style>\n",
       "<table border=\"1\" class=\"dataframe\">\n",
       "  <thead>\n",
       "    <tr style=\"text-align: right;\">\n",
       "      <th></th>\n",
       "      <th>node</th>\n",
       "      <th>type_emission</th>\n",
       "      <th>type_tec</th>\n",
       "      <th>type_year</th>\n",
       "      <th>value</th>\n",
       "      <th>unit</th>\n",
       "    </tr>\n",
       "  </thead>\n",
       "  <tbody>\n",
       "    <tr>\n",
       "      <th>0</th>\n",
       "      <td>Westeros</td>\n",
       "      <td>GHG</td>\n",
       "      <td>all</td>\n",
       "      <td>700</td>\n",
       "      <td>5.0</td>\n",
       "      <td>USD/tCO2</td>\n",
       "    </tr>\n",
       "    <tr>\n",
       "      <th>1</th>\n",
       "      <td>Westeros</td>\n",
       "      <td>GHG</td>\n",
       "      <td>all</td>\n",
       "      <td>710</td>\n",
       "      <td>25.0</td>\n",
       "      <td>USD/tCO2</td>\n",
       "    </tr>\n",
       "    <tr>\n",
       "      <th>2</th>\n",
       "      <td>Westeros</td>\n",
       "      <td>GHG</td>\n",
       "      <td>all</td>\n",
       "      <td>720</td>\n",
       "      <td>30.0</td>\n",
       "      <td>USD/tCO2</td>\n",
       "    </tr>\n",
       "  </tbody>\n",
       "</table>\n",
       "</div>"
      ],
      "text/plain": [
       "       node type_emission type_tec type_year  value      unit\n",
       "0  Westeros           GHG      all       700    5.0  USD/tCO2\n",
       "1  Westeros           GHG      all       710   25.0  USD/tCO2\n",
       "2  Westeros           GHG      all       720   30.0  USD/tCO2"
      ]
     },
     "execution_count": 63,
     "metadata": {},
     "output_type": "execute_result"
    }
   ],
   "source": [
    "scenario_sweet_spot.add_set(\"type_year\", [700, 710, 720])\n",
    "\n",
    "# In case you need to add the new unit to the platform\n",
    "mp.add_unit(\"USD/tCO2\")\n",
    "\n",
    "\n",
    "tax_emission = make_df(\n",
    "    \"tax_emission\",\n",
    "    node=\"Westeros\",\n",
    "    type_year=[700, 710, 720],\n",
    "    type_tec=\"all\",\n",
    "    unit=\"USD/tCO2\",\n",
    "    type_emission=\"GHG\",\n",
    "    value=[5, 25, 30]\n",
    ")\n",
    "\n",
    "\n",
    "scenario_sweet_spot.add_par(\"tax_emission\", tax_emission)\n",
    "scenario_sweet_spot.par(\"tax_emission\")"
   ]
  },
  {
   "cell_type": "code",
   "execution_count": 64,
   "id": "b08c94fd",
   "metadata": {},
   "outputs": [],
   "source": [
    "scenario_sweet_spot.commit(comment=\"find a sweet-spot on carbon prices\")"
   ]
  },
  {
   "cell_type": "code",
   "execution_count": 65,
   "id": "322ab42f",
   "metadata": {},
   "outputs": [],
   "source": [
    "scenario_sweet_spot.solve()"
   ]
  },
  {
   "cell_type": "code",
   "execution_count": 66,
   "id": "a4ddfab4",
   "metadata": {},
   "outputs": [
    {
     "data": {
      "text/html": [
       "<div>\n",
       "<style scoped>\n",
       "    .dataframe tbody tr th:only-of-type {\n",
       "        vertical-align: middle;\n",
       "    }\n",
       "\n",
       "    .dataframe tbody tr th {\n",
       "        vertical-align: top;\n",
       "    }\n",
       "\n",
       "    .dataframe thead th {\n",
       "        text-align: right;\n",
       "    }\n",
       "</style>\n",
       "<table border=\"1\" class=\"dataframe\">\n",
       "  <thead>\n",
       "    <tr style=\"text-align: right;\">\n",
       "      <th></th>\n",
       "      <th>node</th>\n",
       "      <th>emission</th>\n",
       "      <th>type_tec</th>\n",
       "      <th>year</th>\n",
       "      <th>lvl</th>\n",
       "      <th>mrg</th>\n",
       "    </tr>\n",
       "  </thead>\n",
       "  <tbody>\n",
       "    <tr>\n",
       "      <th>0</th>\n",
       "      <td>Westeros</td>\n",
       "      <td>CO2</td>\n",
       "      <td>all</td>\n",
       "      <td>700</td>\n",
       "      <td>314.741386</td>\n",
       "      <td>0.0</td>\n",
       "    </tr>\n",
       "    <tr>\n",
       "      <th>1</th>\n",
       "      <td>Westeros</td>\n",
       "      <td>CO2</td>\n",
       "      <td>all</td>\n",
       "      <td>710</td>\n",
       "      <td>383.438102</td>\n",
       "      <td>0.0</td>\n",
       "    </tr>\n",
       "    <tr>\n",
       "      <th>2</th>\n",
       "      <td>Westeros</td>\n",
       "      <td>CO2</td>\n",
       "      <td>all</td>\n",
       "      <td>720</td>\n",
       "      <td>501.472972</td>\n",
       "      <td>0.0</td>\n",
       "    </tr>\n",
       "  </tbody>\n",
       "</table>\n",
       "</div>"
      ],
      "text/plain": [
       "       node emission type_tec  year         lvl  mrg\n",
       "0  Westeros      CO2      all   700  314.741386  0.0\n",
       "1  Westeros      CO2      all   710  383.438102  0.0\n",
       "2  Westeros      CO2      all   720  501.472972  0.0"
      ]
     },
     "execution_count": 66,
     "metadata": {},
     "output_type": "execute_result"
    }
   ],
   "source": [
    "scenario_sweet_spot.var(\"EMISS\", {\"node\": \"Westeros\"})"
   ]
  },
  {
   "cell_type": "markdown",
   "id": "fcfe87b9",
   "metadata": {},
   "source": [
    "### Results of Sweet-spot scenario"
   ]
  },
  {
   "cell_type": "code",
   "execution_count": 67,
   "id": "e45d6873",
   "metadata": {},
   "outputs": [],
   "source": [
    "from message_ix.reporting import Reporter\n",
    "from message_ix.util.tutorial import prepare_plots\n",
    "\n",
    "rep = Reporter.from_scenario(scenario_sweet_spot)\n",
    "prepare_plots(rep)"
   ]
  },
  {
   "cell_type": "code",
   "execution_count": 68,
   "id": "06d56ecb",
   "metadata": {
    "scrolled": true
   },
   "outputs": [
    {
     "data": {
      "text/plain": [
       "<AxesSubplot:title={'center':'Westeros Energy System Activity'}, xlabel='Year', ylabel='GWa'>"
      ]
     },
     "execution_count": 68,
     "metadata": {},
     "output_type": "execute_result"
    },
    {
     "data": {
      "image/png": "[encoded data removed]",
      "text/plain": [
       "<Figure size 432x288 with 1 Axes>"
      ]
     },
     "metadata": {
      "needs_background": "light"
     },
     "output_type": "display_data"
    }
   ],
   "source": [
    "rep.set_filters(t=[\"coal_ppl\", \"wind_ppl\", \"gas_ppl\"])\n",
    "rep.get(\"plot activity\")"
   ]
  },
  {
   "cell_type": "code",
   "execution_count": 69,
   "id": "7900e6fc",
   "metadata": {},
   "outputs": [
    {
     "data": {
      "text/plain": [
       "<AxesSubplot:title={'center':'Westeros Energy System Capacity'}, xlabel='Year', ylabel='GW'>"
      ]
     },
     "execution_count": 69,
     "metadata": {},
     "output_type": "execute_result"
    },
    {
     "data": {
      "image/png": "[encoded data removed]",
      "text/plain": [
       "<Figure size 432x288 with 1 Axes>"
      ]
     },
     "metadata": {
      "needs_background": "light"
     },
     "output_type": "display_data"
    }
   ],
   "source": [
    "rep.get(\"plot capacity\")"
   ]
  },
  {
   "cell_type": "markdown",
   "id": "7fa33049",
   "metadata": {},
   "source": [
    "I found a sweet-for carbon price in years 700 and 710. However, in year 720 I couldn't find a carbon price where all three resources are used in the same time."
   ]
  },
  {
   "cell_type": "markdown",
   "id": "55397556",
   "metadata": {},
   "source": [
    "## References"
   ]
  },
  {
   "cell_type": "markdown",
   "id": "7dd0fde7",
   "metadata": {},
   "source": [
    "[1] Simoes, S., Nijs, W., Ruiz, P., Sgobbi, A., Radu, D., Bolat, P., Thiel, C. and Peteves, S., 2013. The JRC-EU-TIMES model: Assessing the long-term role of the SET Plan Energy technologies. [online] Available at: <https://energy.ec.europa.eu/topics/research-and-technology/strategic-energy-technology-plan_en> [Accessed 10 June 2022].\n",
    "\n",
    "[2] Zero emissions platform. n.d. The Costs of CO2 Capture: Post-demonstration CCS in the EU. [online] Available at: <http://www.graz-cycle.tugraz.at/pdfs/CO2-Capture-Report.pdf> [Accessed 12 June 2022].\n",
    "\n",
    "[3] Daniel Huppmann, Matthew Gidden, Oliver Fricko, Peter Kolp, Clara Orthofer, Michael Pimmer, Nikolay Kushin, Adriano Vinca, Alessio Mastrucci, Keywan Riahi, and Volker Krey. The MESSAGEix Integrated Assessment Model and the ix modeling platform (ixmp): An open framework for integrated and cross-cutting analysis of energy, climate, the environment, and sustainable development. Environmental Modelling & Software, 112:143–156, 2019. doi:10.1016/j.envsoft.2018.11.012."
   ]
  }
 ],
 "metadata": {
  "kernelspec": {
   "display_name": "message_env",
   "language": "python",
   "name": "message_env"
  },
  "language_info": {
   "codemirror_mode": {
    "name": "ipython",
    "version": 3
   },
   "file_extension": ".py",
   "mimetype": "text/x-python",
   "name": "python",
   "nbconvert_exporter": "python",
   "pygments_lexer": "ipython3",
   "version": "3.10.4"
  }
 },
 "nbformat": 4,
 "nbformat_minor": 5
}
